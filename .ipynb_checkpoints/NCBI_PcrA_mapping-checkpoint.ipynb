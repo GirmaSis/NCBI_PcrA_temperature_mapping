{
 "cells": [
  {
   "cell_type": "code",
   "execution_count": null,
   "id": "28233d06-3211-4a11-9143-7cccfa576a69",
   "metadata": {},
   "outputs": [],
   "source": [
    "import pandas \n",
    "import numpy\n"
   ]
  }
 ],
 "metadata": {
  "kernelspec": {
   "display_name": "Python 3 (ipykernel)",
   "language": "python",
   "name": "python3"
  },
  "language_info": {
   "codemirror_mode": {
    "name": "ipython",
    "version": 3
   },
   "file_extension": ".py",
   "mimetype": "text/x-python",
   "name": "python",
   "nbconvert_exporter": "python",
   "pygments_lexer": "ipython3",
   "version": "3.9.11"
  }
 },
 "nbformat": 4,
 "nbformat_minor": 5
}
