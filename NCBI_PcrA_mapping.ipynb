{
 "cells": [
  {
   "cell_type": "code",
   "execution_count": 2,
   "id": "28233d06-3211-4a11-9143-7cccfa576a69",
   "metadata": {},
   "outputs": [],
   "source": [
    "import pandas as pd\n"
   ]
  },
  {
   "cell_type": "code",
   "execution_count": 3,
   "id": "eb4f5cd4-3024-43f3-9d89-516dbb6fd64f",
   "metadata": {},
   "outputs": [
    {
     "name": "stdout",
     "output_type": "stream",
     "text": [
      "                   #Organism Name  \\\n",
      "0      Polaribacter irgensii 23-P   \n",
      "1         Polaribacter filamentus   \n",
      "2  Octadecabacter antarcticus 307   \n",
      "3     Octadecabacter arcticus 238   \n",
      "4       Shewanella violacea DSS12   \n",
      "\n",
      "                                   Organism Groups       Strain     BioSample  \\\n",
      "0  Bacteria;FCB group;Bacteroidetes/Chlorobi group         23-P  SAMN02436114   \n",
      "1  Bacteria;FCB group;Bacteroidetes/Chlorobi group  ATCC 700397  SAMN06074323   \n",
      "2      Bacteria;Proteobacteria;Alphaproteobacteria          307  SAMN02603621   \n",
      "3      Bacteria;Proteobacteria;Alphaproteobacteria          238  SAMN02603620   \n",
      "4      Bacteria;Proteobacteria;Gammaproteobacteria        DSS12  SAMD00060963   \n",
      "\n",
      "    BioProject         Assembly     Level  Size(Mb)      GC%  \\\n",
      "0   PRJNA13451  GCA_000153225.1  Scaffold   2.76346  34.6000   \n",
      "1  PRJNA355329  GCA_002943715.1    Contig   4.28193  31.4000   \n",
      "2   PRJNA19333  GCA_000155675.2  Complete   4.87548  54.5768   \n",
      "3   PRJNA19331  GCA_000155735.2  Complete   5.47825  55.1917   \n",
      "4   PRJDA34739  GCA_000091325.1  Complete   4.96210  44.7000   \n",
      "\n",
      "                                           Replicons     WGS  Scaffolds   CDS  \\\n",
      "0                                                NaN  AAOG01          2  2352   \n",
      "1                                                NaN  MQUA01         15  3545   \n",
      "2  chromosome:NC_020911.1/CP003740.1; plasmid pOA...     NaN          2  4421   \n",
      "3  chromosome:NC_020908.1/CP003742.1; plasmid pOA...     NaN          3  4854   \n",
      "4                  chromosome:NC_014012.1/AP011177.1     NaN          1  3888   \n",
      "\n",
      "           Release Date                                        GenBank FTP  \\\n",
      "0  2006-02-24T00:00:00Z  ftp://ftp.ncbi.nlm.nih.gov/genomes/all/GCA/000...   \n",
      "1  2018-02-26T00:00:00Z  ftp://ftp.ncbi.nlm.nih.gov/genomes/all/GCA/002...   \n",
      "2  2013-04-08T00:00:00Z  ftp://ftp.ncbi.nlm.nih.gov/genomes/all/GCA/000...   \n",
      "3  2013-04-08T00:00:00Z  ftp://ftp.ncbi.nlm.nih.gov/genomes/all/GCA/000...   \n",
      "4  2010-04-01T23:08:00Z  ftp://ftp.ncbi.nlm.nih.gov/genomes/all/GCA/000...   \n",
      "\n",
      "                                          RefSeq FTP  Temperature  \n",
      "0  ftp://ftp.ncbi.nlm.nih.gov/genomes/all/GCF/000...            4  \n",
      "1  ftp://ftp.ncbi.nlm.nih.gov/genomes/all/GCF/002...            4  \n",
      "2  ftp://ftp.ncbi.nlm.nih.gov/genomes/all/GCF/000...            4  \n",
      "3  ftp://ftp.ncbi.nlm.nih.gov/genomes/all/GCF/000...            4  \n",
      "4  ftp://ftp.ncbi.nlm.nih.gov/genomes/all/GCF/000...            4  \n"
     ]
    }
   ],
   "source": [
    "ncbi_df = pd.read_csv('All_bacteria_ncbi.csv')\n",
    "pcra_df = pd.read_csv('PcrA_BacSub_colab_blast_Organism.csv')\n",
    "\n",
    "# Checking the first few rows of each dataframe to understand their structure\n",
    "print(ncbi_df.head())\n",
    "#print(pcra_df.head())\n"
   ]
  },
  {
   "cell_type": "code",
   "execution_count": null,
   "id": "a56b0596",
   "metadata": {},
   "outputs": [],
   "source": [
    "# Renaming the '#Organism Name' column in ncbi_df to match 'Organism' column in pcra_df for easier comparison\n",
    "ncbi_df.rename(columns={'#Organism Name': 'Organism'}, inplace=True)\n",
    "\n",
    "\n",
    "# Merging the two dataframes on 'Organism' column\n",
    "merged_df = pcra_df.merge(ncbi_df[['Organism', 'Temperature']], on='Organism', how='left')\n",
    "\n",
    "# Saving the merged dataframe to a new CSV file\n",
    "output_file_path = '/mnt/data/PcrA_BacSub_colab_blast_Organism_with_Temperature.csv'\n",
    "merged_df.to_csv(output_file_path, index=False)\n",
    "\n",
    "output_file_path\n"
   ]
  },
  {
   "cell_type": "code",
   "execution_count": null,
   "id": "285fde30",
   "metadata": {},
   "outputs": [],
   "source": []
  },
  {
   "cell_type": "code",
   "execution_count": 6,
   "id": "c1b2bcbd",
   "metadata": {},
   "outputs": [
    {
     "name": "stdout",
     "output_type": "stream",
     "text": [
      "The updated file has been saved to: 2Final_PcrA_BacSub_colab_blast_Organism_with_Temperature.csv\n"
     ]
    }
   ],
   "source": [
    "\n",
    "ncbi_df = pd.read_csv('All_bacteria_ncbi.csv')\n",
    "pcra_df = pd.read_csv('PcrA_BacSub_colab_blast_Organism.csv')\n",
    "\n",
    "# Ensure all organism names are treated as strings\n",
    "pcra_df['Organism'] = pcra_df['Organism'].astype(str)\n",
    "ncbi_df['#Organism Name'] = ncbi_df['#Organism Name'].astype(str)\n",
    "\n",
    "# Function to match temperature based on organism names\n",
    "def match_temperature(organism, ncbi_data):\n",
    "    # Check if any '#Organism Name' in ncbi_data contains the organism name from pcra_data\n",
    "    for ncbi_organism in ncbi_data['#Organism Name']:\n",
    "        if organism in ncbi_organism:\n",
    "            # If a match is found, return the corresponding temperature\n",
    "            return ncbi_data.loc[ncbi_data['#Organism Name'] == ncbi_organism, 'Temperature'].values[0]\n",
    "    # If no match is found, return None\n",
    "    return None\n",
    "\n",
    "# Apply the matching function to each row in pcra_df to find matching temperatures\n",
    "pcra_df['Temperature'] = pcra_df['Organism'].apply(lambda x: match_temperature(x, ncbi_df))\n",
    "\n",
    "# Reorder the DataFrame to have the Temperature column next to the Organism column\n",
    "cols = pcra_df.columns.tolist()\n",
    "# Find the index of 'Organism' column\n",
    "organism_index = cols.index('Organism')\n",
    "# Move 'Temperature' column to be right after 'Organism' column\n",
    "cols.insert(organism_index + 1, cols.pop(cols.index('Temperature')))\n",
    "pcra_df = pcra_df[cols]\n",
    "\n",
    "# Save the updated pcra_df to a new CSV file\n",
    "output_file_path = '2Final_PcrA_BacSub_colab_blast_Organism_with_Temperature.csv'\n",
    "pcra_df.to_csv(output_file_path, index=False)\n",
    "\n",
    "print(f\"The updated file has been saved to: {output_file_path}\")\n"
   ]
  },
  {
   "cell_type": "code",
   "execution_count": null,
   "id": "57710c74",
   "metadata": {},
   "outputs": [],
   "source": []
  },
  {
   "cell_type": "code",
   "execution_count": 8,
   "id": "678cf177",
   "metadata": {},
   "outputs": [
    {
     "name": "stdout",
     "output_type": "stream",
     "text": [
      "The updated file with reversed matching has been saved to: Reversed_Matching_PcrA_BacSub_with_Temperature.csv\n"
     ]
    }
   ],
   "source": [
    "\n",
    "ncbi_df = pd.read_csv('All_bacteria_ncbi.csv')\n",
    "pcra_df = pd.read_csv('PcrA_BacSub_colab_blast_Organism.csv')\n",
    "\n",
    "# Ensure all organism names are treated as strings\n",
    "pcra_df['Organism'] = pcra_df['Organism'].astype(str)\n",
    "ncbi_df['#Organism Name'] = ncbi_df['#Organism Name'].astype(str)\n",
    "\n",
    "# Reverse match: 'Organism' from pcra_df to '#Organism Name' in ncbi_df\n",
    "def reverse_match_temperature(organism, ncbi_data):\n",
    "    # Iterate through the ncbi_data to find a match\n",
    "    for index, row in ncbi_data.iterrows():\n",
    "        if organism in row['#Organism Name'] or row['#Organism Name'] in organism:\n",
    "            return row['Temperature']\n",
    "    return None\n",
    "\n",
    "# Apply the reverse matching function to each row in pcra_df to find matching temperatures\n",
    "pcra_df['Temperature'] = pcra_df['Organism'].apply(lambda x: reverse_match_temperature(x, ncbi_df))\n",
    "\n",
    "# Reorder the DataFrame to have the Temperature column next to the Organism column\n",
    "cols = pcra_df.columns.tolist()\n",
    "organism_index = cols.index('Organism')\n",
    "cols.insert(organism_index + 1, cols.pop(cols.index('Temperature')))\n",
    "pcra_df = pcra_df[cols]\n",
    "\n",
    "# Save the updated pcra_df to a new CSV file\n",
    "output_file_path = 'Reversed_Matching_PcrA_BacSub_with_Temperature.csv'\n",
    "pcra_df.to_csv(output_file_path, index=False)\n",
    "\n",
    "print(f\"The updated file with reversed matching has been saved to: {output_file_path}\")\n"
   ]
  }
 ],
 "metadata": {
  "kernelspec": {
   "display_name": "Python 3 (ipykernel)",
   "language": "python",
   "name": "python3"
  },
  "language_info": {
   "codemirror_mode": {
    "name": "ipython",
    "version": 3
   },
   "file_extension": ".py",
   "mimetype": "text/x-python",
   "name": "python",
   "nbconvert_exporter": "python",
   "pygments_lexer": "ipython3",
   "version": "3.9.11"
  }
 },
 "nbformat": 4,
 "nbformat_minor": 5
}
