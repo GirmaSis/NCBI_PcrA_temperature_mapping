{
 "cells": [
  {
   "cell_type": "code",
   "execution_count": 1,
   "id": "28233d06-3211-4a11-9143-7cccfa576a69",
   "metadata": {},
   "outputs": [],
   "source": [
    "import pandas as pd\n"
   ]
  },
  {
   "cell_type": "code",
   "execution_count": 2,
   "id": "eb4f5cd4-3024-43f3-9d89-516dbb6fd64f",
   "metadata": {},
   "outputs": [
    {
     "name": "stdout",
     "output_type": "stream",
     "text": [
      "                   #Organism Name  \\\n",
      "0      Polaribacter irgensii 23-P   \n",
      "1         Polaribacter filamentus   \n",
      "2  Octadecabacter antarcticus 307   \n",
      "3     Octadecabacter arcticus 238   \n",
      "4       Shewanella violacea DSS12   \n",
      "\n",
      "                                   Organism Groups       Strain     BioSample  \\\n",
      "0  Bacteria;FCB group;Bacteroidetes/Chlorobi group         23-P  SAMN02436114   \n",
      "1  Bacteria;FCB group;Bacteroidetes/Chlorobi group  ATCC 700397  SAMN06074323   \n",
      "2      Bacteria;Proteobacteria;Alphaproteobacteria          307  SAMN02603621   \n",
      "3      Bacteria;Proteobacteria;Alphaproteobacteria          238  SAMN02603620   \n",
      "4      Bacteria;Proteobacteria;Gammaproteobacteria        DSS12  SAMD00060963   \n",
      "\n",
      "    BioProject         Assembly     Level  Size(Mb)      GC%  \\\n",
      "0   PRJNA13451  GCA_000153225.1  Scaffold   2.76346  34.6000   \n",
      "1  PRJNA355329  GCA_002943715.1    Contig   4.28193  31.4000   \n",
      "2   PRJNA19333  GCA_000155675.2  Complete   4.87548  54.5768   \n",
      "3   PRJNA19331  GCA_000155735.2  Complete   5.47825  55.1917   \n",
      "4   PRJDA34739  GCA_000091325.1  Complete   4.96210  44.7000   \n",
      "\n",
      "                                           Replicons     WGS  Scaffolds   CDS  \\\n",
      "0                                                NaN  AAOG01          2  2352   \n",
      "1                                                NaN  MQUA01         15  3545   \n",
      "2  chromosome:NC_020911.1/CP003740.1; plasmid pOA...     NaN          2  4421   \n",
      "3  chromosome:NC_020908.1/CP003742.1; plasmid pOA...     NaN          3  4854   \n",
      "4                  chromosome:NC_014012.1/AP011177.1     NaN          1  3888   \n",
      "\n",
      "           Release Date                                        GenBank FTP  \\\n",
      "0  2006-02-24T00:00:00Z  ftp://ftp.ncbi.nlm.nih.gov/genomes/all/GCA/000...   \n",
      "1  2018-02-26T00:00:00Z  ftp://ftp.ncbi.nlm.nih.gov/genomes/all/GCA/002...   \n",
      "2  2013-04-08T00:00:00Z  ftp://ftp.ncbi.nlm.nih.gov/genomes/all/GCA/000...   \n",
      "3  2013-04-08T00:00:00Z  ftp://ftp.ncbi.nlm.nih.gov/genomes/all/GCA/000...   \n",
      "4  2010-04-01T23:08:00Z  ftp://ftp.ncbi.nlm.nih.gov/genomes/all/GCA/000...   \n",
      "\n",
      "                                          RefSeq FTP  Temperature  \n",
      "0  ftp://ftp.ncbi.nlm.nih.gov/genomes/all/GCF/000...            4  \n",
      "1  ftp://ftp.ncbi.nlm.nih.gov/genomes/all/GCF/002...            4  \n",
      "2  ftp://ftp.ncbi.nlm.nih.gov/genomes/all/GCF/000...            4  \n",
      "3  ftp://ftp.ncbi.nlm.nih.gov/genomes/all/GCF/000...            4  \n",
      "4  ftp://ftp.ncbi.nlm.nih.gov/genomes/all/GCF/000...            4  \n",
      "                                         Description  Alignment Length  \\\n",
      "0  ref|WP_003233919.1| MULTISPECIES: DNA helicase...               739   \n",
      "1  ref|WP_249848357.1| DNA helicase PcrA [Bacillu...               739   \n",
      "2  ref|WP_161621401.1| DNA helicase PcrA [Bacillu...               739   \n",
      "3  ref|WP_187954459.1| DNA helicase PcrA [Bacillu...               739   \n",
      "4  gb|MED1808910.1| DNA helicase PcrA [Bacillus s...               739   \n",
      "\n",
      "   E-Value  Bitscore           Organism  Percent Identity  \\\n",
      "0        0   1523.06         Bacillales        100.000000   \n",
      "1        0   1522.29  Bacillus subtilis         99.864682   \n",
      "2        0   1522.29  Bacillus subtilis         99.864682   \n",
      "3        0   1521.91  Bacillus subtilis         99.864682   \n",
      "4        0   1521.91  Bacillus subtilis         99.729364   \n",
      "\n",
      "                                            Sequence  \n",
      "0  MNYISNQLLSGLNPVQQEAVKTTDGPLLLMAGAGSGKTRVLTHRIA...  \n",
      "1  MNYISNQLLSGLNPVQQEAVKTTDGPLLLMAGAGSGKTRVLTHRIA...  \n",
      "2  MNYISNQLLSGLNPVQQEAVKTTDGPLLLMAGAGSGKTRVLTHRIA...  \n",
      "3  MNYISNQLLSGLNPVQQEAVKTTDGPLLLMAGAGSGKTRVLTHRIA...  \n",
      "4  MNYISNQLLSGLNPVQQEAVKTTDGPLLLMAGAGSGKTRVLTHRIA...  \n"
     ]
    }
   ],
   "source": [
    "ncbi_df = pd.read_csv('All_bacteria_ncbi.csv')\n",
    "pcra_df = pd.read_csv('PcrA_BacSub_colab_blast_Organism.csv')\n",
    "\n",
    "print(ncbi_df.head())\n",
    "print(pcra_df.head())\n"
   ]
  },
  {
   "cell_type": "code",
   "execution_count": 3,
   "id": "a56b0596",
   "metadata": {},
   "outputs": [
    {
     "name": "stdout",
     "output_type": "stream",
     "text": [
      "Output file saved to NEW_PcrA_BacSub_colab_blast_Organism_with_Temperature.csv\n"
     ]
    }
   ],
   "source": [
    "\n",
    "pcra_df['Organism'] = pcra_df['Organism'].astype(str)\n",
    "ncbi_df['#Organism Name'] = ncbi_df['#Organism Name'].astype(str)\n",
    "\n",
    "def match_temperature(organism, ncbi_data):\n",
    "    for ncbi_organism in ncbi_data['#Organism Name']:\n",
    "        if organism in ncbi_organism:\n",
    "            return ncbi_data.loc[ncbi_data['#Organism Name'] == ncbi_organism, 'Temperature'].values[0]\n",
    "    return None\n",
    "\n",
    "pcra_df['Temperature'] = pcra_df['Organism'].apply(lambda x: match_temperature(x, ncbi_df))\n",
    "\n",
    "cols = pcra_df.columns.tolist()\n",
    "organism_index = cols.index('Organism')\n",
    "\n",
    "cols.insert(organism_index + 1, cols.pop(cols.index('Temperature')))\n",
    "pcra_df = pcra_df[cols]\n",
    "\n",
    "output_file_path = 'NEW_PcrA_BacSub_colab_blast_Organism_with_Temperature.csv'\n",
    "pcra_df.to_csv(output_file_path, index=False)\n",
    "\n",
    "print(f'Output file saved to {output_file_path}')\n"
   ]
  },
  {
   "cell_type": "code",
   "execution_count": null,
   "id": "f85b2cb8-58de-4866-af58-9bb1bca61c76",
   "metadata": {},
   "outputs": [],
   "source": []
  }
 ],
 "metadata": {
  "kernelspec": {
   "display_name": "Python 3 (ipykernel)",
   "language": "python",
   "name": "python3"
  },
  "language_info": {
   "codemirror_mode": {
    "name": "ipython",
    "version": 3
   },
   "file_extension": ".py",
   "mimetype": "text/x-python",
   "name": "python",
   "nbconvert_exporter": "python",
   "pygments_lexer": "ipython3",
   "version": "3.9.11"
  }
 },
 "nbformat": 4,
 "nbformat_minor": 5
}
